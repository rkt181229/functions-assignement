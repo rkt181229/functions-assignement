{
  "nbformat": 4,
  "nbformat_minor": 0,
  "metadata": {
    "colab": {
      "provenance": []
    },
    "kernelspec": {
      "name": "python3",
      "display_name": "Python 3"
    },
    "language_info": {
      "name": "python"
    }
  },
  "cells": [
    {
      "cell_type": "markdown",
      "source": [
        "1). What is the difference between a function and a method in Python?"
      ],
      "metadata": {
        "id": "F_wfNpqoiaOP"
      }
    },
    {
      "cell_type": "markdown",
      "metadata": {
        "id": "26989794"
      },
      "source": [
        "ANSWER).\n",
        "In Python, the key difference between a function and a method lies in how they are called and where they are defined.\n",
        "\n",
        "*   Function:A function is a block of code that is defined independently of any class or object. It can be called directly by its name.\n",
        "\n",
        "    **Example:**"
      ]
    },
    {
      "cell_type": "code",
      "metadata": {
        "id": "db068904",
        "colab": {
          "base_uri": "https://localhost:8080/"
        },
        "outputId": "cd2dbf38-176b-4e0a-9f78-426615c49588"
      },
      "source": [
        "    class MyClass:\n",
        "      def __init__(self, value):\n",
        "        self.value = value\n",
        "\n",
        "      def my_method(self):\n",
        "        return self.value * 2\n",
        "\n",
        "    my_object = MyClass(5)\n",
        "    result = my_object.my_method()\n",
        "    print(result)"
      ],
      "execution_count": 1,
      "outputs": [
        {
          "output_type": "stream",
          "name": "stdout",
          "text": [
            "10\n"
          ]
        }
      ]
    },
    {
      "cell_type": "markdown",
      "source": [
        "2). Explain the concept of function arguments and parameters in Python."
      ],
      "metadata": {
        "id": "-BvS88fAifvM"
      }
    },
    {
      "cell_type": "markdown",
      "metadata": {
        "id": "4b1ae4e8"
      },
      "source": [
        "Answer).In Python, parameters and arguments are often used interchangeably, but they have distinct meanings:\n",
        "\n",
        "*   Parameters: These are the names listed in the function definition. They act as placeholders for the values that will be passed into the function when it is called.\n",
        "\n",
        "    Example:"
      ]
    },
    {
      "cell_type": "code",
      "metadata": {
        "colab": {
          "base_uri": "https://localhost:8080/"
        },
        "id": "41aca422",
        "outputId": "e64568a1-c6e2-42d7-d092-6a5222e4caed"
      },
      "source": [
        "def greet(name):\n",
        "    print(f\"Hello, {name}!\")\n",
        "\n",
        "greet(\"ravi kumar tanti\") # \"Alice\" is an argument"
      ],
      "execution_count": 17,
      "outputs": [
        {
          "output_type": "stream",
          "name": "stdout",
          "text": [
            "Hello, ravi kumar tanti!\n"
          ]
        }
      ]
    },
    {
      "cell_type": "markdown",
      "source": [
        "3). What are the different ways to define and call a function in Python?"
      ],
      "metadata": {
        "id": "RWMAwafTin7-"
      }
    },
    {
      "cell_type": "markdown",
      "metadata": {
        "id": "e8366f1a"
      },
      "source": [
        "Anawer)In Python, you can define functions using the `def` keyword. Here are the different ways to define and call functions:\n",
        "\n",
        "Defining Functions:\n",
        "\n",
        "1.  Basic Function Definition:"
      ]
    },
    {
      "cell_type": "code",
      "metadata": {
        "id": "0fd53771"
      },
      "source": [
        "    def greet(name):\n",
        "      print(f\"Hello, {name}\")"
      ],
      "execution_count": 18,
      "outputs": []
    },
    {
      "cell_type": "code",
      "metadata": {
        "id": "1af2d3b8"
      },
      "source": [
        "    def greet_with_default(name=\"Guest\"):\n",
        "      print(f\"Hello, {name}\")"
      ],
      "execution_count": 19,
      "outputs": []
    },
    {
      "cell_type": "code",
      "metadata": {
        "id": "701f6440"
      },
      "source": [
        "    def sum_all(*args):\n",
        "      return sum(args)"
      ],
      "execution_count": 20,
      "outputs": []
    },
    {
      "cell_type": "code",
      "metadata": {
        "id": "83dfd361"
      },
      "source": [
        "    def print_info(**kwargs):\n",
        "      for key, value in kwargs.items():\n",
        "        print(f\"{key}: {value}\")"
      ],
      "execution_count": 21,
      "outputs": []
    },
    {
      "cell_type": "code",
      "metadata": {
        "id": "c32629fc"
      },
      "source": [
        "    multiply = lambda a, b: a * b"
      ],
      "execution_count": 27,
      "outputs": []
    },
    {
      "cell_type": "code",
      "metadata": {
        "colab": {
          "base_uri": "https://localhost:8080/"
        },
        "id": "d67f1390",
        "outputId": "c8113c69-04f0-401b-b26b-b774c0c2ad52"
      },
      "source": [
        "    total = sum_all(1, 2, 3, 4)\n",
        "    print(total)"
      ],
      "execution_count": 24,
      "outputs": [
        {
          "output_type": "stream",
          "name": "stdout",
          "text": [
            "10\n"
          ]
        }
      ]
    },
    {
      "cell_type": "code",
      "metadata": {
        "colab": {
          "base_uri": "https://localhost:8080/"
        },
        "id": "a94a72ba",
        "outputId": "7e003543-6b11-489e-fdbd-e207b0447f09"
      },
      "source": [
        "    print_info(name=\"ravi kumar tanti\", age=25)"
      ],
      "execution_count": 25,
      "outputs": [
        {
          "output_type": "stream",
          "name": "stdout",
          "text": [
            "name: ravi kumar tanti\n",
            "age: 25\n"
          ]
        }
      ]
    },
    {
      "cell_type": "code",
      "metadata": {
        "colab": {
          "base_uri": "https://localhost:8080/"
        },
        "id": "cc6230e6",
        "outputId": "4cbaa1dc-8989-4469-f477-f51a1979525f"
      },
      "source": [
        "    product = multiply(5, 3)\n",
        "    print(product)"
      ],
      "execution_count": 26,
      "outputs": [
        {
          "output_type": "stream",
          "name": "stdout",
          "text": [
            "15\n"
          ]
        }
      ]
    },
    {
      "cell_type": "markdown",
      "source": [
        "4).What is the purpose of the `return` statement in a Python function?"
      ],
      "metadata": {
        "id": "fS94pEhgirMy"
      }
    },
    {
      "cell_type": "markdown",
      "metadata": {
        "id": "b1a07a14"
      },
      "source": [
        "Answer).The `return` statement in a Python function is used to exit the function and send a value back to the caller.\n",
        "\n",
        "*   **Exiting the function:** When a `return` statement is encountered, the function stops executing immediately, and the program flow returns to the point where the function was called.\n",
        "*   **Sending a value:** The value specified after the `return` keyword is the value that the function will produce. This value can be assigned to a variable or used directly in an expression.\n",
        "*   **Returning `None`:** If a function does not have a `return` statement, or if the `return` statement is used without specifying a value, the function will implicitly return `None`.\n",
        "\n",
        "Example:"
      ]
    },
    {
      "cell_type": "code",
      "metadata": {
        "colab": {
          "base_uri": "https://localhost:8080/"
        },
        "id": "1d6f46f7",
        "outputId": "91044b32-8f6c-4bb0-b4e1-bbf7b9f60597"
      },
      "source": [
        "def add_numbers(a, b):\n",
        "  sum_result = a + b\n",
        "  return sum_result\n",
        "result = add_numbers(5, 3)\n",
        "print(result)\n",
        "def greet(name):\n",
        "  print(f\"Hello, {name}!\")\n",
        "\n",
        "greet(\"ravi kumar tanti\")"
      ],
      "execution_count": 28,
      "outputs": [
        {
          "output_type": "stream",
          "name": "stdout",
          "text": [
            "8\n",
            "Hello, ravi kumar tanti!\n"
          ]
        }
      ]
    },
    {
      "cell_type": "markdown",
      "source": [
        "5).What are iterators in Python and how do they differ from iterables?"
      ],
      "metadata": {
        "id": "xrhC0pXoiuFF"
      }
    },
    {
      "cell_type": "markdown",
      "metadata": {
        "id": "ffd94885"
      },
      "source": [
        "Answer).In Python, the key difference between iterables and iterators lies in their roles in the iteration process:\n",
        "\n",
        "*   Iterable: An iterable is an object that can be looped over or iterated through. It is an object that has an `__iter__` method. This method should return an iterator. Examples of iterables include lists, tuples, strings, and dictionaries.\n",
        "\n",
        "*   Iterator: An iterator is an object that represents a stream of data. It is an object that has both an `__iter__` method (which returns the iterator object itself) and a `__next__` method. The `__next__` method is used to fetch the next item from the stream. When there are no more items, it raises a `StopIteration` exception.\n",
        "\n",
        "In essence, an iterable is a container that can be iterated over, while an iterator is the object that performs the iteration. You can get an iterator from an iterable by using the built-in `iter()` function.\n",
        "\n",
        "Example:"
      ]
    },
    {
      "cell_type": "code",
      "source": [
        "my_list = [1, 2, 3, 4]\n",
        "\n",
        "my_iterator = iter(my_list)\n",
        "\n",
        "print(next(my_iterator))\n",
        "print(next(my_iterator))\n",
        "print(next(my_iterator))\n",
        "print(next(my_iterator))\n"
      ],
      "metadata": {
        "colab": {
          "base_uri": "https://localhost:8080/"
        },
        "id": "fDxknhi3XJuv",
        "outputId": "934f86b3-7c26-4331-dd1b-017954bba365"
      },
      "execution_count": 29,
      "outputs": [
        {
          "output_type": "stream",
          "name": "stdout",
          "text": [
            "1\n",
            "2\n",
            "3\n",
            "4\n"
          ]
        }
      ]
    },
    {
      "cell_type": "markdown",
      "source": [
        "6).. Explain the concept of generators in Python and how they are defined."
      ],
      "metadata": {
        "id": "lGM9XyaJixiJ"
      }
    },
    {
      "cell_type": "markdown",
      "metadata": {
        "id": "4fd7c6c9"
      },
      "source": [
        "Answeer).In Python, generators are a simple and elegant way to create iterators. They are functions that use the `yield` keyword. When a generator function is called, it doesn't execute the code inside immediately. Instead, it returns a generator object, which is an iterator.\n",
        "\n",
        "The `yield` keyword is what makes a function a generator. When `yield` is encountered, the function's state is frozen, and the value after `yield` is produced. The next time `next()` is called on the generator object, the function resumes execution from where it left off, with all its variables and state preserved, until the next `yield` is encountered or the function finishes.\n",
        "\n",
        "**How they are defined:**\n",
        "\n",
        "Generators are defined like regular functions, but they use the `yield` keyword instead of `return` to produce a sequence of values.\n",
        "\n",
        "Example:"
      ]
    },
    {
      "cell_type": "code",
      "metadata": {
        "colab": {
          "base_uri": "https://localhost:8080/"
        },
        "id": "c6baa645",
        "outputId": "683a600c-21f2-4bcb-a0c9-30f54bfccf44"
      },
      "source": [
        "def my_generator():\n",
        "  yield 1\n",
        "  yield 2\n",
        "  yield 3\n",
        "\n",
        "gen = my_generator()\n",
        "\n",
        "print(next(gen))\n",
        "print(next(gen))\n",
        "print(next(gen))\n"
      ],
      "execution_count": 30,
      "outputs": [
        {
          "output_type": "stream",
          "name": "stdout",
          "text": [
            "1\n",
            "2\n",
            "3\n"
          ]
        }
      ]
    },
    {
      "cell_type": "markdown",
      "source": [
        "7).What are the advantages of using generators over regular functions?"
      ],
      "metadata": {
        "id": "yv6_bNOki19g"
      }
    },
    {
      "cell_type": "markdown",
      "metadata": {
        "id": "7d422558"
      },
      "source": [
        "Answer.)Generators offer several advantages over regular functions, especially when dealing with large datasets or streams of data:\n",
        "\n",
        "*   Memory Efficiency: Generators produce items one at a time and only keep the state required to generate the next item. Regular functions that return a list or other iterable create the entire sequence in memory before returning it, which can be a significant issue for large datasets.\n",
        "\n",
        "*   Lazy Evaluation: Generators generate values on the fly as they are requested (lazily). This means they don't compute all values upfront, saving computation time and resources if you don't need all the values.\n",
        "\n",
        "*   Infinite Sequences: Generators can represent infinite sequences, which is not possible with regular functions that return a finite collection.\n",
        "\n",
        "*   Readability and Simplicity: For creating iterators, generators using `yield` are often more concise and readable than writing a full iterator class with `__iter__` and `__next__` methods.\n",
        "\n",
        "*   Pipelining: Generators can be easily chained together to create processing pipelines, where the output of one generator becomes the input of another."
      ]
    },
    {
      "cell_type": "markdown",
      "source": [
        "8).What is a lambda function in Python and when is it typically used?"
      ],
      "metadata": {
        "id": "RqPut9j9i7WZ"
      }
    },
    {
      "cell_type": "markdown",
      "metadata": {
        "id": "5dd7152d"
      },
      "source": [
        "Answer).A lambda function in Python is a small, anonymous function defined with the lambda keyword.\n",
        "\n",
        "*   Anonymous: Lambda functions don't have a name like regular functions defined with def.\n",
        "*   Single Expression: They can only contain a single expression, which is implicitly returned.\n",
        "*   Concise: They are often used for short, simple operations.\n",
        "\n",
        "When is it typically used?\n",
        "\n",
        "Lambda functions are typically used in situations where a small function is required for a short period and defining a full function with def would be unnecessarily verbose. Common use cases include:\n",
        "\n",
        "*   Sorting: As the key argument in functions like sorted() , list.sort()\n",
        "*   Filtering: As the function argument in filter().\n",
        "*   Mapping: As the function argument in map().\n",
        "*   GUI programming: For creating simple callbacks.\n",
        "*   Functional programming constructs: When working with higher-order functions"
      ]
    },
    {
      "cell_type": "code",
      "metadata": {
        "colab": {
          "base_uri": "https://localhost:8080/"
        },
        "id": "ae391b29",
        "outputId": "ae8f9478-7ce3-465f-dd95-e270c9330099"
      },
      "source": [
        "\n",
        "my_list = [(1, 'c'), (2, 'a'), (3, 'b')]\n",
        "sorted_list = sorted(my_list, key=lambda item: item[1])\n",
        "print(sorted_list)\n",
        "add = lambda x, y: x + y\n",
        "print(add(5, 3))"
      ],
      "execution_count": 37,
      "outputs": [
        {
          "output_type": "stream",
          "name": "stdout",
          "text": [
            "[(2, 'a'), (3, 'b'), (1, 'c')]\n",
            "8\n"
          ]
        }
      ]
    },
    {
      "cell_type": "markdown",
      "source": [
        "9).Explain the purpose and usage of the `map()` function in Python"
      ],
      "metadata": {
        "id": "vEp5dSwgi__R"
      }
    },
    {
      "cell_type": "markdown",
      "metadata": {
        "id": "2f7cc9f6"
      },
      "source": [
        "Answer).The `map()` function in Python is a built-in function that applies a given function to each item of an iterable (like a list, tuple, etc.) and returns an iterator that yields the results.\n",
        "\n",
        "Purpose:\n",
        "\n",
        "The primary purpose of `map()` is to perform the same operation on every item of an iterable in a concise and efficient way. It avoids the need for explicit loops in many cases, making the code more readable and often faster for large datasets.\n",
        "\n",
        "Usage:\n",
        "\n",
        "The syntax for `map()` is:\n",
        "\n",
        "`map(function, iterable, ...)`\n",
        "\n",
        "*   function: The function that you want to apply to each item of the iterable(s).\n",
        "*   `iterable`: One or more iterables whose items will be passed to the `function`.\n",
        "\n",
        "`map()` returns an iterator. To get a list or another sequence from the result, you typically need to convert the iterator using `list()`, `tuple()`, etc.\n"
      ]
    },
    {
      "cell_type": "markdown",
      "source": [
        "10).What is the difference between `map()`, `reduce()`, and `filter()` functions in Python?"
      ],
      "metadata": {
        "id": "ZQFaKTKFjC2Y"
      }
    },
    {
      "cell_type": "markdown",
      "metadata": {
        "id": "08867289"
      },
      "source": [
        "Answe).Here's a short explanation of the differences between `map()`, `reduce()`, and `filter()`:\n",
        "\n",
        "*   **`map()`**: Applies a function to each item in an iterable and returns an iterator of the results. It transforms elements.\n",
        "*   **`filter()`**: Creates an iterator of elements from an iterable for which a function returns true. It selects elements.\n",
        "*   **`reduce()`**: Applies a function cumulatively to the items of an iterable, from left to right, so as to reduce the iterable to a single value. It aggregates elements."
      ]
    },
    {
      "cell_type": "markdown",
      "source": [
        "11).Using pen & Paper write the internal mechanism for sum operation using  reduce function on this given\n",
        "list:[47,11,42,13];"
      ],
      "metadata": {
        "id": "Qqwd9o03jF8D"
      }
    },
    {
      "cell_type": "markdown",
      "metadata": {
        "id": "dd7573bf"
      },
      "source": [
        "Answer).Here's how `reduce` works for a sum operation on the list `[47, 11, 42, 13]`:\n",
        "\n",
        "Let's assume the `reduce` function is called with a summing function (like `lambda x, y: x + y`) and the list `[47, 11, 42, 13]`.\n",
        "\n",
        "1.  first Step: `reduce` takes the first two elements of the list: `47` and `11`. It applies the summing function to them:\n",
        "    `47 + 11 = 58`\n",
        "\n",
        "2.  Second Step: The result from the previous step (`58`) is now used as the first argument, and the next element from the list (`42`) is used as the second argument. The summing function is applied again:\n",
        "    `58 + 42 = 100`\n",
        "\n",
        "3.  Third Step:The result from the previous step (`100`) is used as the first argument, and the next element from the list (`13`) is used as the second argument. The summing function is applied one last time:\n",
        "    `100 + 13 = 113`\n",
        "\n",
        "4.  Final Result: Since there are no more elements in the list, the final result of the `reduce` operation is the value from the last step: `113`.\n",
        "\n",
        "So, step by step, `reduce` combines the elements of the list using the provided function until a single value remains."
      ]
    },
    {
      "cell_type": "markdown",
      "source": [],
      "metadata": {
        "id": "tF-JdY-um7X7"
      }
    },
    {
      "cell_type": "markdown",
      "source": [
        "-----------------PRACTICAL QUESTION----------------"
      ],
      "metadata": {
        "id": "ige1OU_VjJsT"
      }
    },
    {
      "cell_type": "markdown",
      "source": [
        "1).Write a Python function that takes a list of numbers as input and returns the sum of all even numbers in\n",
        "the list."
      ],
      "metadata": {
        "id": "7kkQdseMjOHy"
      }
    },
    {
      "cell_type": "code",
      "execution_count": 40,
      "metadata": {
        "colab": {
          "base_uri": "https://localhost:8080/"
        },
        "id": "fTsHicq2iROi",
        "outputId": "746a896c-0859-43eb-d09b-83203eb2fd5f"
      },
      "outputs": [
        {
          "output_type": "stream",
          "name": "stdout",
          "text": [
            "Enter a list of numbers separated by commas: 23,24,25,26,27,28\n",
            "The sum of even numbers in the list is: 78\n"
          ]
        }
      ],
      "source": [
        "def sum_of_even_numbers(numbers):\n",
        "\n",
        "  even_sum = 0\n",
        "  for number in numbers:\n",
        "    if number % 2 == 0:\n",
        "      even_sum += number\n",
        "  return even_sum\n",
        "\n",
        "input_string = input(\"Enter a list of numbers separated by commas: \")\n",
        "\n",
        "my_list = [int(num) for num in input_string.split(',')]\n",
        "\n",
        "result = sum_of_even_numbers(my_list)\n",
        "print(f\"The sum of even numbers in the list is: {result}\")"
      ]
    },
    {
      "cell_type": "markdown",
      "source": [
        "2). Create a Python function that accepts a string and returns the reverse of that string."
      ],
      "metadata": {
        "id": "MtVaPU_-jRPa"
      }
    },
    {
      "cell_type": "code",
      "source": [
        "def reverse_string(a):\n",
        "  return a[::-1]\n",
        "s1 = \"ravi kumar tanti\"\n",
        "reversed_string = reverse_string(s1)\n",
        "print(reversed_string)"
      ],
      "metadata": {
        "colab": {
          "base_uri": "https://localhost:8080/"
        },
        "id": "PLwWWKQvoLsb",
        "outputId": "289cb293-e259-437c-f33b-83853b21a889"
      },
      "execution_count": null,
      "outputs": [
        {
          "output_type": "stream",
          "name": "stdout",
          "text": [
            "itnat ramuk ivar\n"
          ]
        }
      ]
    },
    {
      "cell_type": "code",
      "source": [],
      "metadata": {
        "id": "P6vaXd37jSLi"
      },
      "execution_count": null,
      "outputs": []
    },
    {
      "cell_type": "markdown",
      "source": [
        "3).Implement a Python function that takes a list of integers and returns a new list containing the squares of\n",
        "each number."
      ],
      "metadata": {
        "id": "wmOzefzcjSwq"
      }
    },
    {
      "cell_type": "code",
      "source": [
        "def square_numbers(numbers):\n",
        "  squared_list = [number**2 for number in numbers]\n",
        "  return squared_list\n",
        "my_numbers = [1, 2, 3, 4, 5]\n",
        "squared_numbers = square_numbers(my_numbers)\n",
        "print(squared_numbers)"
      ],
      "metadata": {
        "colab": {
          "base_uri": "https://localhost:8080/"
        },
        "id": "ZK2F0Rg9jUx0",
        "outputId": "f5fbe59c-4fc2-4ed6-ce78-d9fab0cdefab"
      },
      "execution_count": null,
      "outputs": [
        {
          "output_type": "stream",
          "name": "stdout",
          "text": [
            "[1, 4, 9, 16, 25]\n"
          ]
        }
      ]
    },
    {
      "cell_type": "markdown",
      "source": [
        "4). Write a Python function that checks if a given number is prime or not from 1 to 200."
      ],
      "metadata": {
        "id": "-kyBr6-WjVmB"
      }
    },
    {
      "cell_type": "code",
      "metadata": {
        "colab": {
          "base_uri": "https://localhost:8080/"
        },
        "id": "c68ab4b5",
        "outputId": "39924264-1cff-43b9-d989-49f916f93e07"
      },
      "source": [
        "def is_prime(num):\n",
        "  if num <= 1:\n",
        "    return False\n",
        "  for i in range(2, int(num**0.5) + 1):\n",
        "    if num % i == 0:\n",
        "      return False\n",
        "  return True\n",
        "\n",
        "print(\"Prime numbers between 1 and 200:\")\n",
        "for number in range(1, 201):\n",
        "  if is_prime(number):\n",
        "    print(number, end = \" \")"
      ],
      "execution_count": 41,
      "outputs": [
        {
          "output_type": "stream",
          "name": "stdout",
          "text": [
            "Prime numbers between 1 and 200:\n",
            "2 3 5 7 11 13 17 19 23 29 31 37 41 43 47 53 59 61 67 71 73 79 83 89 97 101 103 107 109 113 127 131 137 139 149 151 157 163 167 173 179 181 191 193 197 199 "
          ]
        }
      ]
    },
    {
      "cell_type": "code",
      "source": [],
      "metadata": {
        "id": "namJJns9jW7Q"
      },
      "execution_count": null,
      "outputs": []
    },
    {
      "cell_type": "markdown",
      "source": [
        "5). Create an iterator class in Python that generates the Fibonacci sequence up to a specified number of\n",
        "terms."
      ],
      "metadata": {
        "id": "-prLVKeSjXj2"
      }
    },
    {
      "cell_type": "code",
      "source": [
        "class FibonacciIterator:\n",
        "  def __init__(self, num_terms):\n",
        "    self.num_terms = num_terms\n",
        "    self.current_count = 0\n",
        "    self.a, self.b = 0, 1\n",
        "\n",
        "  def __iter__(self):\n",
        "    return self\n",
        "\n",
        "  def __next__(self):\n",
        "    if self.current_count < self.num_terms:\n",
        "      current_fib = self.a\n",
        "      self.a, self.b = self.b, self.a + self.b\n",
        "      self.current_count += 1\n",
        "      return current_fib\n",
        "    else:\n",
        "      raise StopIteration\n",
        "\n",
        "fib_iterator = FibonacciIterator(10)\n",
        "for term in fib_iterator:\n",
        "  print(term , end = \",\")"
      ],
      "metadata": {
        "colab": {
          "base_uri": "https://localhost:8080/"
        },
        "id": "Zqh7BmgjjYgZ",
        "outputId": "05e0c7c1-946c-4a32-fe64-5a88005c981d"
      },
      "execution_count": 43,
      "outputs": [
        {
          "output_type": "stream",
          "name": "stdout",
          "text": [
            "0,1,1,2,3,5,8,13,21,34,"
          ]
        }
      ]
    },
    {
      "cell_type": "markdown",
      "source": [
        "6).Write a generator function in Python that yields the powers of 2 up to a given exponent."
      ],
      "metadata": {
        "id": "HrNRtz3djZRY"
      }
    },
    {
      "cell_type": "code",
      "source": [
        "def powers_of_two(exponent):\n",
        "\n",
        "  for i in range(exponent + 1):\n",
        "    yield 2**i\n",
        "\n",
        "for power in powers_of_two(5):\n",
        "  print(power)"
      ],
      "metadata": {
        "id": "hzHuh5aFjaG6",
        "colab": {
          "base_uri": "https://localhost:8080/"
        },
        "outputId": "e7786bc3-6f54-45a3-ec1a-fcd61bc00a12"
      },
      "execution_count": 2,
      "outputs": [
        {
          "output_type": "stream",
          "name": "stdout",
          "text": [
            "1\n",
            "2\n",
            "4\n",
            "8\n",
            "16\n",
            "32\n"
          ]
        }
      ]
    },
    {
      "cell_type": "markdown",
      "source": [
        "7). Implement a generator function that reads a file line by line and yields each line as a string."
      ],
      "metadata": {
        "id": "P6qkXwiNjapt"
      }
    },
    {
      "cell_type": "code",
      "source": [
        "def read_file_line_by_line(file_path):\n",
        "\n",
        "  with open(file_path, 'r') as f:\n",
        "    for line in f:\n",
        "      yield line.strip()\n",
        "\n",
        "with open(\"my_test_file.txt\", \"w\") as f:\n",
        "    f.write(\"This is the first line.\\n\")\n",
        "    f.write(\"This is the second line.\\n\")\n",
        "    f.write(\"And this is the third line.\")\n",
        "\n",
        "print(\"Reading file line by line:\")\n",
        "for line in read_file_line_by_line(\"my_test_file.txt\"):\n",
        "  print(line)"
      ],
      "metadata": {
        "id": "ibKX4pONjbcp",
        "colab": {
          "base_uri": "https://localhost:8080/"
        },
        "outputId": "1359e15e-e7b5-4f3d-d2a2-769650495e99"
      },
      "execution_count": 44,
      "outputs": [
        {
          "output_type": "stream",
          "name": "stdout",
          "text": [
            "Reading file line by line:\n",
            "This is the first line.\n",
            "This is the second line.\n",
            "And this is the third line.\n"
          ]
        }
      ]
    },
    {
      "cell_type": "markdown",
      "source": [
        "8). Use a lambda function in Python to sort a list of tuples based on the second element of each tuple."
      ],
      "metadata": {
        "id": "gileqQgXjcLP"
      }
    },
    {
      "cell_type": "code",
      "source": [
        "\n",
        "my_list = [(1, 'c'), (2, 'a'), (3, 'b')]\n",
        "\n",
        "sorted_list = sorted(my_list, key=lambda item: item[1])\n",
        "\n",
        "print(sorted_list)"
      ],
      "metadata": {
        "id": "bOKb1BrJjc8p",
        "colab": {
          "base_uri": "https://localhost:8080/"
        },
        "outputId": "4bf253a9-9935-4667-bac6-fc441109e0dd"
      },
      "execution_count": 6,
      "outputs": [
        {
          "output_type": "stream",
          "name": "stdout",
          "text": [
            "[(2, 'a'), (3, 'b'), (1, 'c')]\n"
          ]
        }
      ]
    },
    {
      "cell_type": "markdown",
      "source": [
        "9).Write a Python program that uses `map()` to convert a list of temperatures from Celsius to Fahrenheit"
      ],
      "metadata": {
        "id": "YlArCdS8jd-5"
      }
    },
    {
      "cell_type": "code",
      "source": [
        "celsius_temperatures = [0, 10, 20, 30, 40]\n",
        "\n",
        "def celsius_to_fahrenheit(celsius):\n",
        "  return (celsius * 9/5) + 32\n",
        "\n",
        "fahrenheit_temperatures = list(map(celsius_to_fahrenheit, celsius_temperatures))\n",
        "\n",
        "print(\"Celsius temperatures:\", celsius_temperatures)\n",
        "print(\"Fahrenheit temperatures:\", fahrenheit_temperatures)"
      ],
      "metadata": {
        "colab": {
          "base_uri": "https://localhost:8080/"
        },
        "id": "_BdEIoXDRDwD",
        "outputId": "0021a1ba-a134-4cde-e72e-daedcb7bda04"
      },
      "execution_count": 7,
      "outputs": [
        {
          "output_type": "stream",
          "name": "stdout",
          "text": [
            "Celsius temperatures: [0, 10, 20, 30, 40]\n",
            "Fahrenheit temperatures: [32.0, 50.0, 68.0, 86.0, 104.0]\n"
          ]
        }
      ]
    },
    {
      "cell_type": "markdown",
      "source": [
        "10). Create a Python program that uses `filter()` to remove all the vowels from a given string."
      ],
      "metadata": {
        "id": "dK6tH6t1jfVQ"
      }
    },
    {
      "cell_type": "code",
      "source": [
        "my_string = \"Hello World\"\n",
        "\n",
        "def is_not_vowel(char):\n",
        "  return char.lower() not in 'aeiou'\n",
        "\n",
        "filtered_chars = filter(is_not_vowel, my_string)\n",
        "\n",
        "result_string = \"\".join(filtered_chars)\n",
        "\n",
        "print(\"Original string:\", my_string)\n",
        "print(\"String without vowels:\", result_string)"
      ],
      "metadata": {
        "id": "Tl0UKKQAjgHy",
        "colab": {
          "base_uri": "https://localhost:8080/"
        },
        "outputId": "a995d918-1e80-478d-c77e-d31e724899e8"
      },
      "execution_count": 10,
      "outputs": [
        {
          "output_type": "stream",
          "name": "stdout",
          "text": [
            "Original string: Hello World\n",
            "String without vowels: Hll Wrld\n"
          ]
        }
      ]
    },
    {
      "cell_type": "markdown",
      "source": [
        "11). Imagine an accounting routine used in a book shop. It works on a list with sublists, which look like this:"
      ],
      "metadata": {
        "id": "idWLeHRmjgoh"
      }
    },
    {
      "cell_type": "code",
      "source": [
        "orders =  [\n",
        "    [\"34587\" , \"learning python ,Mark lutz\" , 4, 40.95],\n",
        "    [\"98762\" , \"programming python , Mark Lutz\" , 5, 56.80],\n",
        "    [\"77226\" , \"head first python , Paul Barry\" , 3, 32.95],\n",
        "    [\"88112\" , \"Einführung in python3 , Bernd Klein\" , 3, 24.99]\n",
        "]\n",
        "\n",
        "calculate_total_price = lambda order: (order[0], order[2] * order[3] + (10 if order[2] * order[3] < 100 else 0))\n",
        "\n",
        "result_list = list(map(calculate_total_price, orders))"
      ],
      "metadata": {
        "id": "18CluUWCjhZ5"
      },
      "execution_count": 34,
      "outputs": []
    },
    {
      "cell_type": "markdown",
      "source": [
        "Write a Python program, which returns a list with 2-tuples. Each tuple consists of the order number and the\n",
        "product of the price per item and the quantity. The product should be increased by 10,- € if the value of the\n",
        "order is smaller than 100,00 €."
      ],
      "metadata": {
        "id": "WnFWDNl_k80U"
      }
    },
    {
      "cell_type": "code",
      "source": [
        "orders = [ [\"34587\", \"Learning Python, ravi\", 4, 40.95],\n",
        "           [\"98762\", \"Programming Python, sachin\", 5, 56.80],\n",
        "           [\"77226\", \"Head First Python, sanju\", 3, 32.95],\n",
        "           [\"88112\", \"Einführung in Python3, sania\", 3, 24.99]\n",
        "         ]\n",
        "\n",
        "result_list = []\n",
        "\n",
        "for order in orders:\n",
        "    order_number = order[0]\n",
        "    price_per_item = order[3]\n",
        "    quantity = order[2]\n",
        "    order_value = price_per_item * quantity\n",
        "\n",
        "    if order_value < 100:\n",
        "        order_value += 10\n",
        "\n",
        "    result_list.append((order_number, order_value))\n",
        "\n",
        "print(result_list)"
      ],
      "metadata": {
        "id": "sGZcbdPQk_xb",
        "colab": {
          "base_uri": "https://localhost:8080/"
        },
        "outputId": "33afb769-fbea-4a24-bef0-661461617ce3"
      },
      "execution_count": 14,
      "outputs": [
        {
          "output_type": "stream",
          "name": "stdout",
          "text": [
            "[('34587', 163.8), ('98762', 284.0), ('77226', 108.85000000000001), ('88112', 84.97)]\n"
          ]
        }
      ]
    },
    {
      "cell_type": "markdown",
      "source": [
        "Write a Python program using lambda and map."
      ],
      "metadata": {
        "id": "o9VLIjbplAer"
      }
    },
    {
      "cell_type": "code",
      "source": [
        "orders = [ [\"34587\", \"Learning Python, ravi\", 4, 40.95],\n",
        "           [\"98762\", \"Programming Python, sachin\", 5, 56.80],\n",
        "           [\"77226\", \"Head First Python, saniya\", 3, 32.95],\n",
        "           [\"88112\", \"start in Python3, sanju\", 3, 24.99]\n",
        "         ]\n",
        "\n",
        "result_list = list(map(lambda order: (order[0], order[2] * order[3] + (10 if order[2] * order[3] < 100 else 0)), orders))\n",
        "\n",
        "print(result_list)"
      ],
      "metadata": {
        "id": "Kb4CWojrlEEq",
        "colab": {
          "base_uri": "https://localhost:8080/"
        },
        "outputId": "9da5fd60-b7ef-44fd-a703-1b77de126ef6"
      },
      "execution_count": 31,
      "outputs": [
        {
          "output_type": "stream",
          "name": "stdout",
          "text": [
            "[('34587', 163.8), ('98762', 284.0), ('77226', 108.85000000000001), ('88112', 84.97)]\n"
          ]
        }
      ]
    },
    {
      "cell_type": "code",
      "source": [],
      "metadata": {
        "id": "EJdSWUMAVDC_"
      },
      "execution_count": null,
      "outputs": []
    }
  ]
}